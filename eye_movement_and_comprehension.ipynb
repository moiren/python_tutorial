{
  "nbformat": 4,
  "nbformat_minor": 0,
  "metadata": {
    "colab": {
      "name": "eye movement and comprehension.ipynb",
      "version": "0.3.2",
      "provenance": [],
      "include_colab_link": true
    },
    "kernelspec": {
      "name": "python3",
      "display_name": "Python 3"
    }
  },
  "cells": [
    {
      "cell_type": "markdown",
      "metadata": {
        "id": "view-in-github",
        "colab_type": "text"
      },
      "source": [
        "<a href=\"https://colab.research.google.com/github/moiren/python_tutorial/blob/master/eye_movement_and_comprehension.ipynb\" target=\"_parent\"><img src=\"https://colab.research.google.com/assets/colab-badge.svg\" alt=\"Open In Colab\"/></a>"
      ]
    },
    {
      "metadata": {
        "id": "Nja04RZFrUkf",
        "colab_type": "text"
      },
      "cell_type": "markdown",
      "source": [
        "How internal representation (eye movement regardless of external stimuli) affect comprehension score (together with self-reported measures)?\n",
        "\n",
        "1. decision tree model\n",
        "2. time series clustering"
      ]
    },
    {
      "metadata": {
        "id": "fyCFW6gAr1nw",
        "colab_type": "code",
        "colab": {}
      },
      "cell_type": "code",
      "source": [
        "# import pandas as pd\n",
        "# from google.colab import files\n",
        "# for fn in uploaded.keys():\n",
        "#   print('User uploaded file \"{name}\" with length {length} bytes'.format(\n",
        "#       name=fn, length=len(uploaded[fn])))"
      ],
      "execution_count": 0,
      "outputs": []
    },
    {
      "metadata": {
        "id": "taBkL_LetDRF",
        "colab_type": "code",
        "colab": {}
      },
      "cell_type": "code",
      "source": [
        "#data: read in full condition, dual condition\n",
        "\n",
        "#visualize for the whole video: line, \n",
        "\n",
        "\n",
        "##segment by slides\n",
        "##segment by questions"
      ],
      "execution_count": 0,
      "outputs": []
    }
  ]
}